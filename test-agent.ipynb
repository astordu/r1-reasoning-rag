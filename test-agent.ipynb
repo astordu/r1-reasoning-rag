{
 "cells": [
  {
   "cell_type": "code",
   "execution_count": 1,
   "metadata": {},
   "outputs": [],
   "source": [
    "from agent import QAAgent"
   ]
  },
  {
   "cell_type": "code",
   "execution_count": 2,
   "metadata": {},
   "outputs": [
    {
     "name": "stdout",
     "output_type": "stream",
     "text": [
      "\n",
      "=== STEP 1: RETRIEVAL ===\n",
      "\n",
      "=== STEP 2: VALIDATION ===\n",
      "analyzing retrieved context...\n",
      "\n",
      "Validation Results:\n",
      "-------------------\n",
      "Decision: INVALID\n",
      "Missing Information: Location of Sam Altman's brother Jack's company (Hydrazine Capital or Altman Capital) headquarters.\n",
      "\n",
      "=== STEP 2b: FINDING MISSING INFORMATION ===\n",
      "Searching for: Location of Sam Altman's brother Jack's company (Hydrazine Capital or Altman Capital) headquarters.\n",
      "\n",
      "=== STEP 2: VALIDATION ===\n",
      "analyzing retrieved context...\n",
      "\n",
      "Validation Results:\n",
      "-------------------\n",
      "Decision: VALID\n",
      "\n",
      "=== STEP 3: ANSWERING ===\n"
     ]
    },
    {
     "data": {
      "text/plain": [
       "'Yes.'"
      ]
     },
     "execution_count": 2,
     "metadata": {},
     "output_type": "execute_result"
    }
   ],
   "source": [
    "agent = QAAgent()\n",
    "#agent.run(\"what is the capital city of Canada?\")\n",
    "agent.run(\"is the headquarter of RBC north of Sam Altman's brother's company's headquarter?\")"
   ]
  }
 ],
 "metadata": {
  "kernelspec": {
   "display_name": "venv",
   "language": "python",
   "name": "python3"
  },
  "language_info": {
   "codemirror_mode": {
    "name": "ipython",
    "version": 3
   },
   "file_extension": ".py",
   "mimetype": "text/x-python",
   "name": "python",
   "nbconvert_exporter": "python",
   "pygments_lexer": "ipython3",
   "version": "3.11.6"
  }
 },
 "nbformat": 4,
 "nbformat_minor": 2
}
